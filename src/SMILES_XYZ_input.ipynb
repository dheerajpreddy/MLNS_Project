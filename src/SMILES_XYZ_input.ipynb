{
  "nbformat": 4,
  "nbformat_minor": 0,
  "metadata": {
    "colab": {
      "name": "SMILES_XYZ_input.ipynb",
      "provenance": []
    },
    "kernelspec": {
      "name": "python3",
      "display_name": "Python 3"
    }
  },
  "cells": [
    {
      "cell_type": "code",
      "metadata": {
        "id": "P5TjOAIg7st9",
        "colab_type": "code",
        "colab": {}
      },
      "source": [
        "import tensorflow as tf\n",
        "import keras\n",
        "from keras.models import Sequential\n",
        "from keras.layers import Dense, Dropout, LSTM, GRU, Bidirectional, TimeDistributed, Flatten, Merge\n",
        "from keras.layers.embeddings import Embedding\n",
        "from keras.layers.convolutional import Conv1D, MaxPooling1D\n",
        "from keras.wrappers.scikit_learn import KerasRegressor\n",
        "from keras.models import model_from_json\n",
        "from keras.preprocessing import sequence\n",
        "from keras.preprocessing.text import Tokenizer\n",
        "\n",
        "import pandas as pd \n",
        "import numpy as np\n",
        "import csv\n",
        "from sklearn.metrics import mean_squared_error\n",
        "from sklearn.model_selection import train_test_split"
      ],
      "execution_count": 0,
      "outputs": []
    },
    {
      "cell_type": "code",
      "metadata": {
        "id": "IYKaxJzMB-V8",
        "colab_type": "code",
        "outputId": "498d40c6-eafb-4afb-c202-8ddd71206203",
        "colab": {
          "base_uri": "https://localhost:8080/",
          "height": 204
        }
      },
      "source": [
        "esol = pd.read_csv('train.csv')\n",
        "esol.head()"
      ],
      "execution_count": 0,
      "outputs": [
        {
          "output_type": "execute_result",
          "data": {
            "text/html": [
              "<div>\n",
              "<style scoped>\n",
              "    .dataframe tbody tr th:only-of-type {\n",
              "        vertical-align: middle;\n",
              "    }\n",
              "\n",
              "    .dataframe tbody tr th {\n",
              "        vertical-align: top;\n",
              "    }\n",
              "\n",
              "    .dataframe thead th {\n",
              "        text-align: right;\n",
              "    }\n",
              "</style>\n",
              "<table border=\"1\" class=\"dataframe\">\n",
              "  <thead>\n",
              "    <tr style=\"text-align: right;\">\n",
              "      <th></th>\n",
              "      <th>File ID</th>\n",
              "      <th>SMILE</th>\n",
              "      <th>Energy</th>\n",
              "    </tr>\n",
              "  </thead>\n",
              "  <tbody>\n",
              "    <tr>\n",
              "      <th>0</th>\n",
              "      <td>0.xyz</td>\n",
              "      <td>C[NH+]1CC1C(C)(C)O</td>\n",
              "      <td>-1879.273366</td>\n",
              "    </tr>\n",
              "    <tr>\n",
              "      <th>1</th>\n",
              "      <td>1.xyz</td>\n",
              "      <td>COC1CNCC1=O</td>\n",
              "      <td>-1598.701542</td>\n",
              "    </tr>\n",
              "    <tr>\n",
              "      <th>2</th>\n",
              "      <td>2.xyz</td>\n",
              "      <td>Nc1cccc(N)c1</td>\n",
              "      <td>-1633.722192</td>\n",
              "    </tr>\n",
              "    <tr>\n",
              "      <th>3</th>\n",
              "      <td>3.xyz</td>\n",
              "      <td>O=CC1COCO1</td>\n",
              "      <td>-1256.754945</td>\n",
              "    </tr>\n",
              "    <tr>\n",
              "      <th>4</th>\n",
              "      <td>4.xyz</td>\n",
              "      <td>N#CCOCCO</td>\n",
              "      <td>-1317.974723</td>\n",
              "    </tr>\n",
              "  </tbody>\n",
              "</table>\n",
              "</div>"
            ],
            "text/plain": [
              "  File ID               SMILE       Energy\n",
              "0   0.xyz  C[NH+]1CC1C(C)(C)O -1879.273366\n",
              "1   1.xyz         COC1CNCC1=O -1598.701542\n",
              "2   2.xyz        Nc1cccc(N)c1 -1633.722192\n",
              "3   3.xyz          O=CC1COCO1 -1256.754945\n",
              "4   4.xyz            N#CCOCCO -1317.974723"
            ]
          },
          "metadata": {
            "tags": []
          },
          "execution_count": 2
        }
      ]
    },
    {
      "cell_type": "code",
      "metadata": {
        "id": "ld-EOHtPCKbo",
        "colab_type": "code",
        "colab": {}
      },
      "source": [
        "esol_smiles = esol['SMILE'].tolist()\n",
        "esol_solubility = esol['Energy'].tolist()"
      ],
      "execution_count": 0,
      "outputs": []
    },
    {
      "cell_type": "code",
      "metadata": {
        "id": "ek5WUygbCe6y",
        "colab_type": "code",
        "colab": {}
      },
      "source": [
        "def generate_onehot_encoding(docs,type=\"encoded_docs\"):\n",
        "\n",
        "    t = Tokenizer(char_level=True)\n",
        "    t.fit_on_texts(docs)\n",
        "\n",
        "    if type==\"vocab_size\":\n",
        "        vocab_size = len(t.word_index) + 1\n",
        "        return vocab_size\n",
        "\n",
        "    encoded_docs = t.texts_to_sequences(docs)#, mode='count')\n",
        "    return encoded_docs"
      ],
      "execution_count": 0,
      "outputs": []
    },
    {
      "cell_type": "code",
      "metadata": {
        "id": "Of5Z81-2CQqT",
        "colab_type": "code",
        "outputId": "4fba8b02-be61-4b23-86ec-a252d53301b8",
        "colab": {
          "base_uri": "https://localhost:8080/",
          "height": 34
        }
      },
      "source": [
        "len_esol_smiles = []\n",
        "for SMILE in esol_smiles:\n",
        "    len_esol_smiles += [len(SMILE)]\n",
        "    \n",
        "max_len_esol = max(len_esol_smiles)\n",
        "\n",
        "esol_vocab_size = generate_onehot_encoding(esol_smiles,'vocab_size')\n",
        "esol_vocab_size, max_len_esol"
      ],
      "execution_count": 0,
      "outputs": [
        {
          "output_type": "execute_result",
          "data": {
            "text/plain": [
              "(24, 34)"
            ]
          },
          "metadata": {
            "tags": []
          },
          "execution_count": 5
        }
      ]
    },
    {
      "cell_type": "code",
      "metadata": {
        "id": "QkqaDHwtChp6",
        "colab_type": "code",
        "colab": {}
      },
      "source": [
        "esol_encodings = generate_onehot_encoding(esol_smiles)\n",
        "esol_sequences = sequence.pad_sequences(esol_encodings, maxlen=max_len_esol)"
      ],
      "execution_count": 0,
      "outputs": []
    },
    {
      "cell_type": "markdown",
      "metadata": {
        "id": "K9RSfMBxCs4_",
        "colab_type": "text"
      },
      "source": [
        "### Get XYZ Data"
      ]
    },
    {
      "cell_type": "code",
      "metadata": {
        "id": "50SF9mKCCpV9",
        "colab_type": "code",
        "colab": {}
      },
      "source": [
        "def get_geometry_vector(file_id):\n",
        "\tfo=open(file_id,'r')\n",
        "\tvector=[]\n",
        "\tdata=fo.readlines()\n",
        "\tfor i in range(2,len(data)):\n",
        "\t\telements=data[i].split()\n",
        "\t\tif elements[0]=='C':\n",
        "\t\t\tvector.extend([1,0,0,0])\n",
        "\t\telif elements[0]=='N':\n",
        "\t\t\tvector.extend([0,1,0,0])\n",
        "\t\telif elements[0]=='O':\n",
        "\t\t\tvector.extend([0,0,1,0])\n",
        "\t\telif elements[0]=='H':\n",
        "\t\t\tvector.extend([0,0,0,1])\n",
        "\t\tfor j in range(1,len(elements)):\n",
        "\t\t\tvector.append(float(elements[j]))\n",
        "\treturn vector"
      ],
      "execution_count": 0,
      "outputs": []
    },
    {
      "cell_type": "code",
      "metadata": {
        "id": "osmWCeeiCxM2",
        "colab_type": "code",
        "colab": {}
      },
      "source": [
        "fo=open('train.csv')\n",
        "data=csv.reader(fo)\n",
        "d={}\n",
        "count=0\n",
        "maxx=count\n",
        "for i in data:\n",
        "\tfor j in i[1]:\n",
        "\t\tif j not in d:\n",
        "\t\t\td[j]=count\n",
        "\t\t\tcount+=1"
      ],
      "execution_count": 0,
      "outputs": []
    },
    {
      "cell_type": "code",
      "metadata": {
        "id": "h9bWRWY0C23a",
        "colab_type": "code",
        "colab": {}
      },
      "source": [
        "X_train_xyz=[]\n",
        "fo.close()\n",
        "fo=open('train.csv')\n",
        "data=csv.reader(fo)\n",
        "num=0\n",
        "maxlen=0\n",
        "for i in data:\n",
        "\tif num==0:\n",
        "\t\tnum=1\n",
        "\t\tcontinue\n",
        "\t#print(float(i[2]))\n",
        "# \tY_train.append(float(i[2]))\n",
        "\tcur=[]\n",
        "\tfor j in i[1]:\n",
        "\t\tval=d[j]\n",
        "\t\tone_hot=[0 for i in range(count)]\n",
        "\t\tone_hot[val]=1\n",
        "\t\tcur.extend(one_hot)\n",
        "\tmaxlen=max(maxlen,len(cur))\n",
        "\tX_train_xyz.append(np.array(cur))\n",
        "    \n",
        "X_train_xyz = np.array(X_train_xyz)"
      ],
      "execution_count": 0,
      "outputs": []
    },
    {
      "cell_type": "code",
      "metadata": {
        "id": "zqL3qUmDTHPy",
        "colab_type": "code",
        "colab": {}
      },
      "source": [
        "lengths = []\n",
        "for x in X_train_xyz:\n",
        "    lengths += [len(x)]\n",
        "    \n",
        "max_len_xyz = max(lengths)"
      ],
      "execution_count": 0,
      "outputs": []
    },
    {
      "cell_type": "code",
      "metadata": {
        "id": "VCmvUBRNTVsY",
        "colab_type": "code",
        "colab": {}
      },
      "source": [
        "X_train_xyz = sequence.pad_sequences(X_train_xyz, maxlen=max_len_xyz)"
      ],
      "execution_count": 0,
      "outputs": []
    },
    {
      "cell_type": "markdown",
      "metadata": {
        "id": "Dk0Pb0KsC964",
        "colab_type": "text"
      },
      "source": [
        "### Feeding data to model"
      ]
    },
    {
      "cell_type": "code",
      "metadata": {
        "id": "6u_uD5GZC6WV",
        "colab_type": "code",
        "colab": {}
      },
      "source": [
        "X1 = esol_sequences\n",
        "X2 = X_train_xyz\n",
        "Y = esol_solubility\n",
        "vocab = esol_vocab_size"
      ],
      "execution_count": 0,
      "outputs": []
    },
    {
      "cell_type": "code",
      "metadata": {
        "id": "79FjJpAFZUQG",
        "colab_type": "code",
        "colab": {}
      },
      "source": [
        "inp = [X1, X2]\n",
        "X1_train, X1_test, y_train, y_test = train_test_split(inp, Y, random_state=1024)"
      ],
      "execution_count": 0,
      "outputs": []
    },
    {
      "cell_type": "code",
      "metadata": {
        "id": "GW7_A4B3DDmw",
        "colab_type": "code",
        "colab": {}
      },
      "source": [
        "X1_train, X1_test, y1_train, y1_test = train_test_split(X1, Y, random_state=1024)\n",
        "X2_train, X2_test, y2_train, y2_test = train_test_split(X2, Y, random_state=1024)"
      ],
      "execution_count": 0,
      "outputs": []
    },
    {
      "cell_type": "code",
      "metadata": {
        "id": "yXG1JXYzZs-M",
        "colab_type": "code",
        "outputId": "d7e46d84-c5ed-4210-e73a-d4df19aeeb60",
        "colab": {
          "base_uri": "https://localhost:8080/",
          "height": 34
        }
      },
      "source": [
        "y1_test[74], y2_test[74]"
      ],
      "execution_count": 0,
      "outputs": [
        {
          "output_type": "execute_result",
          "data": {
            "text/plain": [
              "(-1695.6071291160001, -1695.6071291160001)"
            ]
          },
          "metadata": {
            "tags": []
          },
          "execution_count": 35
        }
      ]
    },
    {
      "cell_type": "code",
      "metadata": {
        "id": "K8lDh_vIDHyL",
        "colab_type": "code",
        "colab": {}
      },
      "source": [
        "X_train = [X1_train, X2_train]\n",
        "X_test = [X1_test, X2_test]"
      ],
      "execution_count": 0,
      "outputs": []
    },
    {
      "cell_type": "code",
      "metadata": {
        "id": "wLstUU9bIQgs",
        "colab_type": "code",
        "colab": {}
      },
      "source": [
        "def as_keras_metric(method):\n",
        "    import functools\n",
        "    from keras import backend as K\n",
        "    import tensorflow as tf\n",
        "    @functools.wraps(method)\n",
        "    def wrapper(self, args, **kwargs):\n",
        "        \"\"\" Wrapper for turning tensorflow metrics into keras metrics \"\"\"\n",
        "        value, update_op = method(self, args, **kwargs)\n",
        "        K.get_session().run(tf.local_variables_initializer())\n",
        "        with tf.control_dependencies([update_op]):\n",
        "            value = tf.identity(value)\n",
        "        return value\n",
        "    return wrapper\n",
        "precision = as_keras_metric(tf.metrics.precision)\n",
        "recall = as_keras_metric(tf.metrics.recall)\n",
        "auc = as_keras_metric(tf.metrics.auc)"
      ],
      "execution_count": 0,
      "outputs": []
    },
    {
      "cell_type": "code",
      "metadata": {
        "id": "CrS4Vsi4DZur",
        "colab_type": "code",
        "colab": {}
      },
      "source": [
        "early_stop = keras.callbacks.EarlyStopping(monitor='val_loss', patience=5)"
      ],
      "execution_count": 0,
      "outputs": []
    },
    {
      "cell_type": "code",
      "metadata": {
        "id": "6M6y_oe3pPvI",
        "colab_type": "code",
        "colab": {}
      },
      "source": [
        "comb_x_train = []\n",
        "for i in range(len(X1_train)):\n",
        "  comb_x_train.append(np.concatenate([X1_train[i],X2_train[i]]))"
      ],
      "execution_count": 0,
      "outputs": []
    },
    {
      "cell_type": "code",
      "metadata": {
        "id": "7sGtj-F7tpU-",
        "colab_type": "code",
        "colab": {}
      },
      "source": [
        "comb_x_test = []\n",
        "for i in range(len(X2_test)):\n",
        "  comb_x_test.append(np.concatenate([X1_test[i],X2_test[i]]))\n",
        "comb_x_test = np.array(comb_x_test)"
      ],
      "execution_count": 0,
      "outputs": []
    },
    {
      "cell_type": "code",
      "metadata": {
        "id": "oX-v0zg8ps44",
        "colab_type": "code",
        "colab": {}
      },
      "source": [
        "comb_x_train = np.array(comb_x_train)"
      ],
      "execution_count": 0,
      "outputs": []
    },
    {
      "cell_type": "code",
      "metadata": {
        "id": "p_99EUnxqXgY",
        "colab_type": "code",
        "outputId": "8caf5c60-3534-4a65-c0ba-36f8ac54526d",
        "colab": {
          "base_uri": "https://localhost:8080/",
          "height": 34
        }
      },
      "source": [
        "comb_x_train.shape"
      ],
      "execution_count": 0,
      "outputs": [
        {
          "output_type": "execute_result",
          "data": {
            "text/plain": [
              "(7500, 986)"
            ]
          },
          "metadata": {
            "tags": []
          },
          "execution_count": 64
        }
      ]
    },
    {
      "cell_type": "code",
      "metadata": {
        "id": "lvSwbUYDXnAU",
        "colab_type": "code",
        "outputId": "6b0fe07c-8932-4127-ed47-804aef9203a6",
        "colab": {
          "base_uri": "https://localhost:8080/",
          "height": 374
        }
      },
      "source": [
        "layers=2\n",
        "optimizer =\"adam\"\n",
        "model_type =\"regression\"\n",
        "model = Sequential()\n",
        "model.add(Embedding(esol_vocab_size,  32, input_length=986))\n",
        "model.add(Conv1D(filters=32, kernel_size=3, padding='same', activation='relu'))\n",
        "model.add(MaxPooling1D(pool_size=2))\n",
        "model.add(Conv1D(filters=32, kernel_size=3, padding='same', activation='relu'))\n",
        "model.add(MaxPooling1D(pool_size=2))\n",
        "# if layers==3:\n",
        "# model.add(Conv1D(filters=32, kernel_size=3, padding='same', activation='relu'))\n",
        "# model.add(MaxPooling1D(pool_size=2))\n",
        "model.add(Flatten())\n",
        "# if optimizer == \"adam\" and lr!= 0.001:\n",
        "#     print(\"Setting learning rate to\"+str(lr))\n",
        "#     optimizer = tf.train.AdamOptimizer(lr)\n",
        "\n",
        "model.add(Dense(1))\n",
        "model.compile(loss='mse',optimizer=optimizer, metrics=['mape'])\n",
        "model.summary()"
      ],
      "execution_count": 0,
      "outputs": [
        {
          "output_type": "stream",
          "text": [
            "_________________________________________________________________\n",
            "Layer (type)                 Output Shape              Param #   \n",
            "=================================================================\n",
            "embedding_26 (Embedding)     (None, 986, 32)           768       \n",
            "_________________________________________________________________\n",
            "conv1d_45 (Conv1D)           (None, 986, 32)           3104      \n",
            "_________________________________________________________________\n",
            "max_pooling1d_45 (MaxPooling (None, 493, 32)           0         \n",
            "_________________________________________________________________\n",
            "conv1d_46 (Conv1D)           (None, 493, 32)           3104      \n",
            "_________________________________________________________________\n",
            "max_pooling1d_46 (MaxPooling (None, 246, 32)           0         \n",
            "_________________________________________________________________\n",
            "flatten_17 (Flatten)         (None, 7872)              0         \n",
            "_________________________________________________________________\n",
            "dense_41 (Dense)             (None, 1)                 7873      \n",
            "=================================================================\n",
            "Total params: 14,849.0\n",
            "Trainable params: 14,849.0\n",
            "Non-trainable params: 0.0\n",
            "_________________________________________________________________\n"
          ],
          "name": "stdout"
        }
      ]
    },
    {
      "cell_type": "code",
      "metadata": {
        "id": "lVpUz6F9f4Zc",
        "colab_type": "code",
        "outputId": "7f59dc93-1494-46ee-d9eb-92c58cc74932",
        "colab": {
          "base_uri": "https://localhost:8080/",
          "height": 1000
        }
      },
      "source": [
        "model.fit(comb_x_train, y_train, shuffle=True, validation_split=0.1,\\\n",
        "                        epochs=100, batch_size=32, verbose=1,callbacks=[early_stop])"
      ],
      "execution_count": 0,
      "outputs": [
        {
          "output_type": "stream",
          "text": [
            "Train on 6750 samples, validate on 750 samples\n",
            "Epoch 1/100\n",
            "6750/6750 [==============================] - 17s - loss: 487.4488 - mean_absolute_percentage_error: 32.1391 - val_loss: 173.3363 - val_mean_absolute_percentage_error: 12.0992\n",
            "Epoch 2/100\n",
            "6750/6750 [==============================] - 16s - loss: 178.1124 - mean_absolute_percentage_error: 12.6140 - val_loss: 147.9578 - val_mean_absolute_percentage_error: 10.4190\n",
            "Epoch 3/100\n",
            "6750/6750 [==============================] - 16s - loss: 145.7445 - mean_absolute_percentage_error: 10.4481 - val_loss: 126.8593 - val_mean_absolute_percentage_error: 8.6603\n",
            "Epoch 4/100\n",
            "6750/6750 [==============================] - 16s - loss: 123.8246 - mean_absolute_percentage_error: 8.9837 - val_loss: 113.6059 - val_mean_absolute_percentage_error: 7.9395\n",
            "Epoch 5/100\n",
            "6750/6750 [==============================] - 16s - loss: 113.9547 - mean_absolute_percentage_error: 8.3015 - val_loss: 117.1775 - val_mean_absolute_percentage_error: 7.8150\n",
            "Epoch 6/100\n",
            "6750/6750 [==============================] - 16s - loss: 106.8002 - mean_absolute_percentage_error: 7.7522 - val_loss: 95.6605 - val_mean_absolute_percentage_error: 6.6727\n",
            "Epoch 7/100\n",
            "6750/6750 [==============================] - 16s - loss: 94.2129 - mean_absolute_percentage_error: 6.8573 - val_loss: 82.5947 - val_mean_absolute_percentage_error: 5.8066\n",
            "Epoch 8/100\n",
            "6750/6750 [==============================] - 16s - loss: 80.6165 - mean_absolute_percentage_error: 5.9059 - val_loss: 70.4405 - val_mean_absolute_percentage_error: 4.9447\n",
            "Epoch 9/100\n",
            "6750/6750 [==============================] - 16s - loss: 70.2367 - mean_absolute_percentage_error: 5.1805 - val_loss: 66.6975 - val_mean_absolute_percentage_error: 4.6516\n",
            "Epoch 10/100\n",
            "6750/6750 [==============================] - 16s - loss: 64.9428 - mean_absolute_percentage_error: 4.8012 - val_loss: 60.7919 - val_mean_absolute_percentage_error: 4.3207\n",
            "Epoch 11/100\n",
            "6750/6750 [==============================] - 16s - loss: 61.8701 - mean_absolute_percentage_error: 4.5731 - val_loss: 57.7483 - val_mean_absolute_percentage_error: 4.0982\n",
            "Epoch 12/100\n",
            "6750/6750 [==============================] - 16s - loss: 59.2464 - mean_absolute_percentage_error: 4.3655 - val_loss: 59.2041 - val_mean_absolute_percentage_error: 4.2055\n",
            "Epoch 13/100\n",
            "6750/6750 [==============================] - 16s - loss: 57.1639 - mean_absolute_percentage_error: 4.1996 - val_loss: 59.4018 - val_mean_absolute_percentage_error: 4.0597\n",
            "Epoch 14/100\n",
            "6750/6750 [==============================] - 16s - loss: 55.4586 - mean_absolute_percentage_error: 4.0493 - val_loss: 51.5862 - val_mean_absolute_percentage_error: 3.5901\n",
            "Epoch 15/100\n",
            "6750/6750 [==============================] - 16s - loss: 51.4653 - mean_absolute_percentage_error: 3.7708 - val_loss: 54.0751 - val_mean_absolute_percentage_error: 3.7681\n",
            "Epoch 16/100\n",
            "6750/6750 [==============================] - 16s - loss: 49.3764 - mean_absolute_percentage_error: 3.5922 - val_loss: 48.2823 - val_mean_absolute_percentage_error: 3.3494\n",
            "Epoch 17/100\n",
            "6750/6750 [==============================] - 15s - loss: 47.4347 - mean_absolute_percentage_error: 3.4307 - val_loss: 45.8857 - val_mean_absolute_percentage_error: 3.1193\n",
            "Epoch 18/100\n",
            "6750/6750 [==============================] - 16s - loss: 45.8791 - mean_absolute_percentage_error: 3.2875 - val_loss: 42.2137 - val_mean_absolute_percentage_error: 2.8938\n",
            "Epoch 19/100\n",
            "6750/6750 [==============================] - 16s - loss: 43.5410 - mean_absolute_percentage_error: 3.1049 - val_loss: 40.4127 - val_mean_absolute_percentage_error: 2.7536\n",
            "Epoch 20/100\n",
            "6750/6750 [==============================] - 16s - loss: 41.4678 - mean_absolute_percentage_error: 2.9354 - val_loss: 39.3016 - val_mean_absolute_percentage_error: 2.6706\n",
            "Epoch 21/100\n",
            "6750/6750 [==============================] - 16s - loss: 39.9715 - mean_absolute_percentage_error: 2.8122 - val_loss: 39.6416 - val_mean_absolute_percentage_error: 2.6504\n",
            "Epoch 22/100\n",
            "6750/6750 [==============================] - 15s - loss: 38.3762 - mean_absolute_percentage_error: 2.6785 - val_loss: 36.8925 - val_mean_absolute_percentage_error: 2.4849\n",
            "Epoch 23/100\n",
            "6750/6750 [==============================] - 16s - loss: 36.0124 - mean_absolute_percentage_error: 2.5021 - val_loss: 44.6445 - val_mean_absolute_percentage_error: 2.9509\n",
            "Epoch 24/100\n",
            "6750/6750 [==============================] - 16s - loss: 34.7793 - mean_absolute_percentage_error: 2.4059 - val_loss: 34.7237 - val_mean_absolute_percentage_error: 2.3128\n",
            "Epoch 25/100\n",
            "6750/6750 [==============================] - 16s - loss: 33.8739 - mean_absolute_percentage_error: 2.3305 - val_loss: 33.5909 - val_mean_absolute_percentage_error: 2.2549\n",
            "Epoch 26/100\n",
            "6750/6750 [==============================] - 16s - loss: 31.6534 - mean_absolute_percentage_error: 2.1742 - val_loss: 32.1799 - val_mean_absolute_percentage_error: 2.1548\n",
            "Epoch 27/100\n",
            "6750/6750 [==============================] - 16s - loss: 31.2379 - mean_absolute_percentage_error: 2.1355 - val_loss: 32.2827 - val_mean_absolute_percentage_error: 2.1614\n",
            "Epoch 28/100\n",
            "6750/6750 [==============================] - 16s - loss: 30.3896 - mean_absolute_percentage_error: 2.0699 - val_loss: 29.5454 - val_mean_absolute_percentage_error: 1.9802\n",
            "Epoch 29/100\n",
            "6750/6750 [==============================] - 16s - loss: 29.7631 - mean_absolute_percentage_error: 2.0225 - val_loss: 30.7222 - val_mean_absolute_percentage_error: 2.0519\n",
            "Epoch 30/100\n",
            "6750/6750 [==============================] - 15s - loss: 29.6579 - mean_absolute_percentage_error: 2.0146 - val_loss: 31.3170 - val_mean_absolute_percentage_error: 2.0822\n",
            "Epoch 31/100\n",
            "6750/6750 [==============================] - 16s - loss: 27.5925 - mean_absolute_percentage_error: 1.8732 - val_loss: 29.7605 - val_mean_absolute_percentage_error: 1.9840\n",
            "Epoch 32/100\n",
            "6750/6750 [==============================] - 16s - loss: 27.4013 - mean_absolute_percentage_error: 1.8613 - val_loss: 27.9312 - val_mean_absolute_percentage_error: 1.8715\n",
            "Epoch 33/100\n",
            "6750/6750 [==============================] - 16s - loss: 26.6142 - mean_absolute_percentage_error: 1.8052 - val_loss: 26.6582 - val_mean_absolute_percentage_error: 1.7930\n",
            "Epoch 34/100\n",
            "6750/6750 [==============================] - 16s - loss: 25.7254 - mean_absolute_percentage_error: 1.7481 - val_loss: 27.1859 - val_mean_absolute_percentage_error: 1.8244\n",
            "Epoch 35/100\n",
            "6750/6750 [==============================] - 16s - loss: 25.6083 - mean_absolute_percentage_error: 1.7412 - val_loss: 26.3031 - val_mean_absolute_percentage_error: 1.7683\n",
            "Epoch 36/100\n",
            "6750/6750 [==============================] - 16s - loss: 25.6280 - mean_absolute_percentage_error: 1.7410 - val_loss: 26.2201 - val_mean_absolute_percentage_error: 1.7576\n",
            "Epoch 37/100\n",
            "6750/6750 [==============================] - 15s - loss: 24.5127 - mean_absolute_percentage_error: 1.6675 - val_loss: 29.6126 - val_mean_absolute_percentage_error: 1.9717\n",
            "Epoch 38/100\n",
            "6750/6750 [==============================] - 16s - loss: 24.6178 - mean_absolute_percentage_error: 1.6761 - val_loss: 24.5760 - val_mean_absolute_percentage_error: 1.6547\n",
            "Epoch 39/100\n",
            "6750/6750 [==============================] - 16s - loss: 23.7537 - mean_absolute_percentage_error: 1.6159 - val_loss: 24.4208 - val_mean_absolute_percentage_error: 1.6485\n",
            "Epoch 40/100\n",
            "6750/6750 [==============================] - 16s - loss: 23.6700 - mean_absolute_percentage_error: 1.6098 - val_loss: 29.9952 - val_mean_absolute_percentage_error: 1.9900\n",
            "Epoch 41/100\n",
            "6750/6750 [==============================] - 15s - loss: 22.7500 - mean_absolute_percentage_error: 1.5519 - val_loss: 23.3967 - val_mean_absolute_percentage_error: 1.5807\n",
            "Epoch 42/100\n",
            "6750/6750 [==============================] - 15s - loss: 23.6366 - mean_absolute_percentage_error: 1.6071 - val_loss: 27.1385 - val_mean_absolute_percentage_error: 1.8242\n",
            "Epoch 43/100\n",
            "6750/6750 [==============================] - 15s - loss: 22.5357 - mean_absolute_percentage_error: 1.5372 - val_loss: 22.6560 - val_mean_absolute_percentage_error: 1.5334\n",
            "Epoch 44/100\n",
            "6750/6750 [==============================] - 16s - loss: 21.5341 - mean_absolute_percentage_error: 1.4717 - val_loss: 27.3457 - val_mean_absolute_percentage_error: 1.8255\n",
            "Epoch 45/100\n",
            "6750/6750 [==============================] - 16s - loss: 22.2586 - mean_absolute_percentage_error: 1.5210 - val_loss: 22.3711 - val_mean_absolute_percentage_error: 1.5073\n",
            "Epoch 46/100\n",
            "6750/6750 [==============================] - 15s - loss: 22.1181 - mean_absolute_percentage_error: 1.5085 - val_loss: 22.5103 - val_mean_absolute_percentage_error: 1.5198\n",
            "Epoch 47/100\n",
            "6750/6750 [==============================] - 16s - loss: 21.9824 - mean_absolute_percentage_error: 1.4986 - val_loss: 23.5535 - val_mean_absolute_percentage_error: 1.5989\n",
            "Epoch 48/100\n",
            "6750/6750 [==============================] - 16s - loss: 21.8831 - mean_absolute_percentage_error: 1.4920 - val_loss: 21.9362 - val_mean_absolute_percentage_error: 1.4867\n",
            "Epoch 49/100\n",
            "6750/6750 [==============================] - 16s - loss: 21.2344 - mean_absolute_percentage_error: 1.4512 - val_loss: 23.5473 - val_mean_absolute_percentage_error: 1.5901\n",
            "Epoch 50/100\n",
            "6750/6750 [==============================] - 16s - loss: 20.0525 - mean_absolute_percentage_error: 1.3749 - val_loss: 21.2476 - val_mean_absolute_percentage_error: 1.4421\n",
            "Epoch 51/100\n",
            "6750/6750 [==============================] - 16s - loss: 20.4079 - mean_absolute_percentage_error: 1.3964 - val_loss: 21.1722 - val_mean_absolute_percentage_error: 1.4389\n",
            "Epoch 52/100\n",
            "6750/6750 [==============================] - 15s - loss: 20.6034 - mean_absolute_percentage_error: 1.4076 - val_loss: 21.1165 - val_mean_absolute_percentage_error: 1.4234\n",
            "Epoch 53/100\n",
            "6750/6750 [==============================] - 16s - loss: 20.1677 - mean_absolute_percentage_error: 1.3826 - val_loss: 21.2369 - val_mean_absolute_percentage_error: 1.4400\n",
            "Epoch 54/100\n",
            "6750/6750 [==============================] - 16s - loss: 20.0794 - mean_absolute_percentage_error: 1.3773 - val_loss: 21.2670 - val_mean_absolute_percentage_error: 1.4428\n",
            "Epoch 55/100\n",
            "6750/6750 [==============================] - 16s - loss: 20.2180 - mean_absolute_percentage_error: 1.3832 - val_loss: 21.5652 - val_mean_absolute_percentage_error: 1.4674\n",
            "Epoch 56/100\n",
            "6750/6750 [==============================] - 16s - loss: 19.2176 - mean_absolute_percentage_error: 1.3202 - val_loss: 20.9418 - val_mean_absolute_percentage_error: 1.4156\n",
            "Epoch 57/100\n",
            "6750/6750 [==============================] - 15s - loss: 19.7405 - mean_absolute_percentage_error: 1.3522 - val_loss: 19.9166 - val_mean_absolute_percentage_error: 1.3554\n",
            "Epoch 58/100\n",
            "6750/6750 [==============================] - 16s - loss: 19.9398 - mean_absolute_percentage_error: 1.3661 - val_loss: 20.1133 - val_mean_absolute_percentage_error: 1.3676\n",
            "Epoch 59/100\n",
            "6750/6750 [==============================] - 16s - loss: 19.3673 - mean_absolute_percentage_error: 1.3274 - val_loss: 20.2618 - val_mean_absolute_percentage_error: 1.3784\n",
            "Epoch 60/100\n",
            "6750/6750 [==============================] - 16s - loss: 18.8928 - mean_absolute_percentage_error: 1.2981 - val_loss: 20.7382 - val_mean_absolute_percentage_error: 1.4084\n",
            "Epoch 61/100\n",
            "6750/6750 [==============================] - 16s - loss: 18.9866 - mean_absolute_percentage_error: 1.3069 - val_loss: 20.6662 - val_mean_absolute_percentage_error: 1.4053\n",
            "Epoch 62/100\n",
            "6750/6750 [==============================] - 16s - loss: 18.8595 - mean_absolute_percentage_error: 1.2923 - val_loss: 20.4805 - val_mean_absolute_percentage_error: 1.3908\n",
            "Epoch 63/100\n",
            "6750/6750 [==============================] - 16s - loss: 18.4995 - mean_absolute_percentage_error: 1.2719 - val_loss: 20.0596 - val_mean_absolute_percentage_error: 1.3590\n"
          ],
          "name": "stdout"
        },
        {
          "output_type": "execute_result",
          "data": {
            "text/plain": [
              "<keras.callbacks.History at 0x7f5b6be14240>"
            ]
          },
          "metadata": {
            "tags": []
          },
          "execution_count": 98
        }
      ]
    },
    {
      "cell_type": "code",
      "metadata": {
        "id": "8vgy5XpQqZB3",
        "colab_type": "code",
        "colab": {}
      },
      "source": [
        "y_predict = model.predict(comb_x_test).reshape(1,-1)[0]"
      ],
      "execution_count": 0,
      "outputs": []
    },
    {
      "cell_type": "code",
      "metadata": {
        "id": "GGLTPb5YtWWG",
        "colab_type": "code",
        "outputId": "39fb2c9b-1ad3-407e-d194-293f8a1ba676",
        "colab": {
          "base_uri": "https://localhost:8080/",
          "height": 34
        }
      },
      "source": [
        "import math\n",
        "import sklearn\n",
        "\n",
        "rmse = math.sqrt(sklearn.metrics.mean_squared_error(y1_test, y_predict))\n",
        "print(rmse)"
      ],
      "execution_count": 0,
      "outputs": [
        {
          "output_type": "stream",
          "text": [
            "30.54566465961889\n"
          ],
          "name": "stdout"
        }
      ]
    },
    {
      "cell_type": "code",
      "metadata": {
        "id": "SGjgv77ttc8l",
        "colab_type": "code",
        "outputId": "090e0136-6703-44bf-e310-b712bdad3854",
        "colab": {
          "base_uri": "https://localhost:8080/",
          "height": 34
        }
      },
      "source": [
        "from sklearn.metrics import mean_absolute_error\n",
        "mean_absolute_error(y1_test, y_predict)"
      ],
      "execution_count": 0,
      "outputs": [
        {
          "output_type": "execute_result",
          "data": {
            "text/plain": [
              "19.46679747618908"
            ]
          },
          "metadata": {
            "tags": []
          },
          "execution_count": 102
        }
      ]
    }
  ]
}