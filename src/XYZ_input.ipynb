{
 "cells": [
  {
   "cell_type": "code",
   "execution_count": 1,
   "metadata": {},
   "outputs": [],
   "source": [
    "import csv\n",
    "from sklearn import ensemble\n",
    "from sklearn import datasets\n",
    "from sklearn.utils import shuffle\n",
    "from sklearn.metrics import mean_squared_error\n",
    "from sklearn.model_selection import train_test_split\n",
    "import numpy as np"
   ]
  },
  {
   "cell_type": "code",
   "execution_count": 2,
   "metadata": {},
   "outputs": [],
   "source": [
    "def get_geometry_vector(file_id):\n",
    "\tfo=open(file_id,'r')\n",
    "\tvector=[]\n",
    "\tdata=fo.readlines()\n",
    "\tfor i in range(2,len(data)):\n",
    "\t\telements=data[i].split()\n",
    "\t\tif elements[0]=='C':\n",
    "\t\t\tvector.extend([1,0,0,0])\n",
    "\t\telif elements[0]=='N':\n",
    "\t\t\tvector.extend([0,1,0,0])\n",
    "\t\telif elements[0]=='O':\n",
    "\t\t\tvector.extend([0,0,1,0])\n",
    "\t\telif elements[0]=='H':\n",
    "\t\t\tvector.extend([0,0,0,1])\n",
    "\t\tfor j in range(1,len(elements)):\n",
    "\t\t\tvector.append(float(elements[j]))\n",
    "\treturn vector"
   ]
  },
  {
   "cell_type": "code",
   "execution_count": 3,
   "metadata": {},
   "outputs": [],
   "source": [
    "fo=open('./train.csv')\n",
    "data=csv.reader(fo)\n",
    "d={}\n",
    "count=0\n",
    "maxx=count\n",
    "for i in data:\n",
    "\tfor j in i[1]:\n",
    "\t\tif j not in d:\n",
    "\t\t\td[j]=count\n",
    "\t\t\tcount+=1"
   ]
  },
  {
   "cell_type": "code",
   "execution_count": 4,
   "metadata": {},
   "outputs": [],
   "source": [
    "fo=open('./test.csv')\n",
    "data=csv.reader(fo)\n",
    "d={}\n",
    "for i in data:\n",
    "# \tprint('loop1')\n",
    "\tfor j in i[1]:\n",
    "\t\tif j not in d:\n",
    "\t\t\td[j]=count\n",
    "\t\t\tcount+=1"
   ]
  },
  {
   "cell_type": "code",
   "execution_count": 5,
   "metadata": {},
   "outputs": [],
   "source": [
    "X_train=[]\n",
    "Y_train=[]\n",
    "# print(d)\n",
    "fo.close()\n",
    "fo=open('./train.csv')\n",
    "data=csv.reader(fo)\n",
    "num=0\n",
    "maxlen=0\n",
    "for i in data:\n",
    "\tif num==0:\n",
    "\t\tnum=1\n",
    "\t\tcontinue\n",
    "\t#print(float(i[2]))\n",
    "\tY_train.append(float(i[2]))\n",
    "\tcur=[]\n",
    "\tfor j in i[1]:\n",
    "\t\tval=d[j]\n",
    "\t\tone_hot=[0 for i in range(count)]\n",
    "\t\tone_hot[val]=1\n",
    "\t\tcur.extend(one_hot)\n",
    "\tmaxlen=max(maxlen,len(cur))\n",
    "\tX_train.append(cur)"
   ]
  },
  {
   "cell_type": "code",
   "execution_count": 6,
   "metadata": {},
   "outputs": [
    {
     "name": "stdout",
     "output_type": "stream",
     "text": [
      "10000\n",
      "3000\n"
     ]
    }
   ],
   "source": [
    "X_final=[]\n",
    "Y_final=[]\n",
    "\n",
    "fo=open('./test.csv')\n",
    "data=csv.reader(fo)\n",
    "num=0\n",
    "maxlen=0\n",
    "for i in data:\n",
    "\tif num==0:\n",
    "\t\tnum=1\n",
    "\t\tcontinue\n",
    "\t#print(float(i[2]))\n",
    "\t#Y_train.append(float(i[2]))\n",
    "\tcur=[]\n",
    "\tfor j in i[1]:\n",
    "\t\tval=d[j]\n",
    "\t\tone_hot=[0 for i in range(count)]\n",
    "\t\tone_hot[val]=1\n",
    "\t\tcur.extend(one_hot)\n",
    "\tmaxlen=max(maxlen,len(cur))\n",
    "\tX_final.append(cur)\n",
    "\n",
    "for i in range(len(X_train)):\n",
    "\tfor j in range(maxlen-len(X_train[i])):\n",
    "\t\tX_train[i].append(0)\n",
    "# \tprint(len(X_train[i]))\n",
    "print(len(X_train))\n",
    "\n",
    "for i in range(len(X_final)):\n",
    "\tfor j in range(maxlen-len(X_final[i])):\n",
    "\t\tX_final[i].append(0)\n",
    "# \tprint(len(X_final[i]))\n",
    "print(len(X_final))"
   ]
  },
  {
   "cell_type": "code",
   "execution_count": 7,
   "metadata": {},
   "outputs": [],
   "source": [
    "num=0\n",
    "fo.close()\n",
    "fo=open('./train.csv')\n",
    "data=csv.reader(fo)\n",
    "counter=0\n",
    "for i in data:\n",
    "\tif num==0:\n",
    "\t\tnum=1\n",
    "\t\tcontinue\n",
    "\telse:\n",
    "\t\tnum+=1\n",
    "\tfile_id='./xyzs/'+i[0]\n",
    "\tvector=get_geometry_vector(file_id)\n",
    "# \tprint(vector)\n",
    "\tX_train[counter].extend(get_geometry_vector(file_id))\n",
    "\tmaxlen=max(maxlen,len(X_train[counter]))\n",
    "\tcounter+=1"
   ]
  },
  {
   "cell_type": "code",
   "execution_count": 8,
   "metadata": {},
   "outputs": [],
   "source": [
    "num=0\n",
    "fo.close()\n",
    "fo=open('./test.csv')\n",
    "data=csv.reader(fo)\n",
    "counter=0\n",
    "for i in data:\n",
    "\tif num==0:\n",
    "\t\tnum=1\n",
    "\t\tcontinue\n",
    "\telse:\n",
    "\t\tnum+=1\n",
    "\tfile_id='./xyzs/'+i[0]\n",
    "\tvector=get_geometry_vector(file_id)\n",
    "# \tprint(vector)\n",
    "\tX_final[counter].extend(get_geometry_vector(file_id))\n",
    "\tmaxlen=max(maxlen,len(X_final[counter]))\n",
    "\tcounter+=1\n",
    "\n",
    "for i in range(len(X_train)):\n",
    "\tfor j in range(maxlen-len(X_train[i])):\n",
    "\t\tX_train[i].append(0)\n",
    "\t#print(len(X_train[i]))\n",
    "\n",
    "for i in range(len(X_final)):\n",
    "\tfor j in range(maxlen-len(X_final[i])):\n",
    "\t\tX_final[i].append(0)"
   ]
  },
  {
   "cell_type": "code",
   "execution_count": 9,
   "metadata": {},
   "outputs": [
    {
     "name": "stdout",
     "output_type": "stream",
     "text": [
      "(10000, 2043)\n",
      "10000\n",
      "(3000, 2043)\n",
      "[0. 0. 0. ... 0. 0. 0.]\n"
     ]
    },
    {
     "data": {
      "text/plain": [
       "GradientBoostingRegressor(alpha=0.9, criterion='friedman_mse', init=None,\n",
       "             learning_rate=0.1, loss='ls', max_depth=3, max_features=None,\n",
       "             max_leaf_nodes=None, min_impurity_decrease=0.0,\n",
       "             min_impurity_split=None, min_samples_leaf=1,\n",
       "             min_samples_split=2, min_weight_fraction_leaf=0.0,\n",
       "             n_estimators=100, n_iter_no_change=None, presort='auto',\n",
       "             random_state=None, subsample=1.0, tol=0.0001,\n",
       "             validation_fraction=0.1, verbose=0, warm_start=False)"
      ]
     },
     "execution_count": 9,
     "metadata": {},
     "output_type": "execute_result"
    }
   ],
   "source": [
    "X_train=np.array(X_train)\n",
    "print(X_train.shape)\n",
    "print(len(Y_train))\n",
    "X_final=np.array(X_final)\n",
    "print(X_final.shape)\n",
    "X_train,X_test,Y_train,Y_test=train_test_split(X_train,Y_train, test_size=0.2, random_state=42)\n",
    "#print(\"debug\")\n",
    "#print(Y_train)\n",
    "print(X_train[0])\n",
    "params = {'n_estimators':100, 'max_depth': 3, 'min_samples_split': 2,\n",
    "          'learning_rate': 0.1, 'loss': 'ls'}\n",
    "clf = ensemble.GradientBoostingRegressor(**params)\n",
    "clf.fit(X_train,Y_train)\n",
    "# preds=clf.predict(X_final)\n",
    "# np.savetxt('out.txt',preds)"
   ]
  },
  {
   "cell_type": "code",
   "execution_count": 10,
   "metadata": {},
   "outputs": [
    {
     "name": "stdout",
     "output_type": "stream",
     "text": [
      "30.793733056340933\n"
     ]
    }
   ],
   "source": [
    "preds = clf.predict(X_test)\n",
    "import math\n",
    "import sklearn\n",
    "\n",
    "rmse = math.sqrt(sklearn.metrics.mean_squared_error(Y_test, preds))\n",
    "print(rmse)"
   ]
  },
  {
   "cell_type": "code",
   "execution_count": 12,
   "metadata": {},
   "outputs": [
    {
     "data": {
      "text/plain": [
       "18.877410349513664"
      ]
     },
     "execution_count": 12,
     "metadata": {},
     "output_type": "execute_result"
    }
   ],
   "source": [
    "from sklearn.metrics import mean_absolute_error\n",
    "mean_absolute_error(Y_test, preds)"
   ]
  },
  {
   "cell_type": "code",
   "execution_count": 15,
   "metadata": {},
   "outputs": [],
   "source": [
    "avg_energy = sum(Y_test)/len(Y_test)\n",
    "avg_preds = [avg_energy for x in Y_test]"
   ]
  },
  {
   "cell_type": "code",
   "execution_count": 18,
   "metadata": {},
   "outputs": [
    {
     "data": {
      "text/plain": [
       "187.75382368399795"
      ]
     },
     "execution_count": 18,
     "metadata": {},
     "output_type": "execute_result"
    }
   ],
   "source": [
    "mean_absolute_error(Y_test, avg_preds)"
   ]
  },
  {
   "cell_type": "code",
   "execution_count": 19,
   "metadata": {},
   "outputs": [
    {
     "data": {
      "text/plain": [
       "239.45844336270324"
      ]
     },
     "execution_count": 19,
     "metadata": {},
     "output_type": "execute_result"
    }
   ],
   "source": [
    "math.sqrt(sklearn.metrics.mean_squared_error(Y_test, avg_preds))"
   ]
  },
  {
   "cell_type": "code",
   "execution_count": null,
   "metadata": {},
   "outputs": [],
   "source": []
  }
 ],
 "metadata": {
  "kernelspec": {
   "display_name": "Python 3",
   "language": "python",
   "name": "python3"
  },
  "language_info": {
   "codemirror_mode": {
    "name": "ipython",
    "version": 3
   },
   "file_extension": ".py",
   "mimetype": "text/x-python",
   "name": "python",
   "nbconvert_exporter": "python",
   "pygments_lexer": "ipython3",
   "version": "3.7.7"
  }
 },
 "nbformat": 4,
 "nbformat_minor": 2
}
